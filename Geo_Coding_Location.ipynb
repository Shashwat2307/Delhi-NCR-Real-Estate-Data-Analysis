{
 "cells": [
  {
   "cell_type": "markdown",
   "id": "3b30a5dc",
   "metadata": {},
   "source": [
    "# Geocoding Real Estate Data using LocationIQ API\n",
    "\n",
    "This notebook demonstrates how to enrich real estate data by adding latitude and longitude coordinates to property listings. We'll use the LocationIQ Geocoding API to convert textual addresses into geographical coordinates. The process involves loading data from an Excel file, making API calls for each location, and saving the updated data back to an Excel file."
   ]
  },
  {
   "cell_type": "markdown",
   "id": "aa8a10ec",
   "metadata": {},
   "source": [
    "## 1. Setting Up the Environment and Loading Data\n",
    "\n",
    "First, we import the necessary libraries. If you don't have them installed, you can install them using `pip`:\n",
    "`pip install pandas requests openpyxl`\n",
    "\n",
    "Then, we load the real estate data from an Excel file and prepare the DataFrame by adding new columns for latitude and longitude. We also configure the LocationIQ API key and base URL. **Remember to handle your API key securely; for production, consider using environment variables.**"
   ]
  },
  {
   "cell_type": "code",
   "execution_count": null,
   "id": "6e316d6b",
   "metadata": {
    "colab": {
     "base_uri": "https://localhost:8080/"
    },
    "id": "eZ_T021d7_oW",
    "outputId": "97217691-3013-43f1-b969-e3141f021c32"
   },
   "outputs": [],
   "source": [
    "import pandas as pd\n",
    "import requests\n",
    "import time\n",
    "\n",
    "# Load Excel file (make sure 'Delhi_RealEstate_Data.xlsx' is in the same directory)\n",
    "file_path = \"Delhi_RealEstate_Data.xlsx\"\n",
    "df = pd.read_excel(file_path)\n",
    "\n",
    "# Add placeholders for latitude and longitude columns\n",
    "df[\"latitude\"] = None\n",
    "df[\"longitude\"] = None\n",
    "\n",
    "# LocationIQ API configuration\n",
    "# WARNING: For production use, consider loading API_KEY from environment variables for security.\n",
    "API_KEY = \"pk.8a47fb22376c64cbbf3605de8848dd5b\" \n",
    "BASE_URL = \"https://us1.locationiq.com/v1/search\""
   ]
  },
  {
   "cell_type": "markdown",
   "id": "a3fb2f11",
   "metadata": {},
   "source": [
    "## 2. Geocoding Function Definition\n",
    "\n",
    "This section defines two helper functions:\n",
    "- `format_location`: Adds contextual information (like city and country) to the raw location string to improve geocoding accuracy.\n",
    "- `geocode_address`: Handles the API request to LocationIQ. It includes retry logic for transient network issues and robust error handling to prevent crashes."
   ]
  },
  {
   "cell_type": "code",
   "execution_count": null,
   "id": "7ffc5685",
   "metadata": {
    "colab": {
     "base_uri": "https://localhost:8080/"
    },
    "id": "J-Zt021d7_oX",
    "outputId": "65b9319e-e325-4c60-8456-5510d9326e1c"
   },
   "outputs": [],
   "source": [
    "def format_location(location):\n",
    "    # Add city and country context to improve geocoding results\n",
    "    return f\"{location}, Gurugram, India\"\n",
    "\n",
    "def geocode_address(address, api_key, max_retries=3):\n",
    "    formatted_address = format_location(address)\n",
    "    print(f\"\\nAttempting to geocode: {formatted_address}\")\n",
    "    \n",
    "    for attempt in range(max_retries):\n",
    "        try:\n",
    "            params = {\n",
    "                \"key\": api_key,\n",
    "                \"q\": formatted_address,\n",
    "                \"format\": \"json\",\n",
    "                \"limit\": 1\n",
    "            }\n",
    "            headers = {\"accept\": \"application/json\"}\n",
    "            \n",
    "            response = requests.get(BASE_URL, params=params, headers=headers, timeout=10)\n",
    "            response.raise_for_status() # Raise HTTPError for bad responses (4xx or 5xx)\n",
    "            \n",
    "            data = response.json()\n",
    "            if data and len(data) > 0:\n",
    "                print(f\"Successfully geocoded: {address}\")\n",
    "                print(f\"Found coordinates: {data[0]['lat']}, {data[0]['lon']}\")\n",
    "                return float(data[0]['lat']), float(data[0]['lon'])\n",
    "            else:\n",
    "                print(f\"No results found for: {address}\")\n",
    "                return None, None\n",
    "                \n",
    "        except requests.exceptions.RequestException as e:\n",
    "            if attempt == max_retries - 1:\n",
    "                print(f\"Failed to geocode location: {address} after {max_retries} attempts\")\n",
    "                print(f\"Error: {str(e)}\")\n",
    "                return None, None\n",
    "            print(f\"Attempt {attempt + 1} failed for {address}, retrying...\")\n",
    "            time.sleep(2) # Wait before retrying"
   ]
  },
  {
   "cell_type": "markdown",
   "id": "86f682bc",
   "metadata": {},
   "source": [
    "## 3. Executing the Geocoding Process\n",
    "\n",
    "This loop iterates through each row of the DataFrame. It checks if coordinates are already present; if not, it calls the `geocode_address` function. Progress is printed, and a temporary backup file is saved periodically to prevent data loss during long geocoding runs. A small delay (`time.sleep(1)`) is added to respect API rate limits."
   ]
  },
  {
   "cell_type": "code",
   "execution_count": null,
   "id": "56d6f27b",
   "metadata": {
    "colab": {
     "base_uri": "https://localhost:8080/"
    },
    "id": "d-wT021d7_oY",
    "outputId": "36142750-7164-42f8-a111-54c34a942475"
   },
   "outputs": [],
   "source": [
    "total_rows = len(df)\n",
    "print(f\"Starting geocoding process for {total_rows} locations...\")\n",
    "\n",
    "for idx, row in df.iterrows():\n",
    "    # Only geocode if coordinates are not already present\n",
    "    if pd.isna(row[\"latitude\"]) or pd.isna(row[\"longitude\"]):\n",
    "        lat, lng = geocode_address(row[\"location\"], API_KEY)\n",
    "        df.at[idx, \"latitude\"] = lat\n",
    "        df.at[idx, \"longitude\"] = lng\n",
    "        \n",
    "        progress = (idx + 1) / total_rows * 100\n",
    "        print(f\"Progress: {progress:.1f}% ({idx + 1}/{total_rows})\")\n",
    "        \n",
    "        # Save a backup file every 10 rows\n",
    "        if (idx + 1) % 10 == 0:\n",
    "            df.to_excel(\"Real_Estate_Data_Geocoded_TEMP.xlsx\", index=False)\n",
    "            print(\"Saved backup file\")\n",
    "        \n",
    "        time.sleep(1) # Pause to respect API rate limits"
   ]
  },
  {
   "cell_type": "markdown",
   "id": "0b420bd1",
   "metadata": {},
   "source": [
    "## 4. Geocoding Summary and Final Save\n",
    "\n",
    "After the loop completes, a summary of the geocoding process is printed, showing how many locations were successfully geocoded versus how many failed. Finally, the entire DataFrame with the newly added coordinates is saved to a new Excel file."
   ]
  },
  {
   "cell_type": "code",
   "execution_count": null,
   "id": "1395a49f",
   "metadata": {
    "colab": {
     "base_uri": "https://localhost:8080/"
    },
    "id": "e_zT021d7_oZ",
    "outputId": "36142750-7164-42f8-a111-54c34a942475"
   },
   "outputs": [],
   "source": [
    "successful_geocodes = df[\"latitude\"].notna().sum()\n",
    "print(f\"\\nGeocoding Summary:\")\n",
    "print(f\"Total locations: {total_rows}\")\n",
    "print(f\"Successfully geocoded: {successful_geocodes}\")\n",
    "print(f\"Failed to geocode: {total_rows - successful_geocodes}\")\n",
    "\n",
    "# Final save of the complete geocoded data\n",
    "df.to_excel(\"Real_Estate_Data_Geocoded.xlsx\", index=False)\n",
    "print(\"Geocoding complete. File saved as Real_Estate_Data_Geocoded.xlsx\")"
   ]
  }
 ],
 "metadata": {
  "colab": {
   "collapsed_sections": [],
   "name": "Real_Estate_Geocoding.ipynb",
   "provenance": []
  },
  "kernelspec": {
   "display_name": "Python 3 (ipykernel)",
   "language": "python",
   "name": "python3"
  },
  "language_info": {
   "codemirror_mode": {
    "name": "ipython",
    "version": 3
   },
   "file_extension": ".py",
   "mimetype": "text/x-python",
   "name": "python",
   "nbconvert_exporter": "python",
   "pygments_lexer": "ipython3",
   "version": "3.12.7"
  }
 },
 "nbformat": 4,
 "nbformat_minor": 5
}
