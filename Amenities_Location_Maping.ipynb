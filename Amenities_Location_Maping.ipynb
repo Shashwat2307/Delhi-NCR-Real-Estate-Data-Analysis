{
 "nbformat": 4,
 "nbformat_minor": 5,
 "metadata": {
  "colab": {
   "collapsed_sections": [],
   "name": "Real_Estate_Location_Mapping.ipynb",
   "provenance": []
  },
  "kernelspec": {
   "display_name": "Python 3",
   "language": "python",
   "name": "python3"
  },
  "language_info": {
   "codemirror_mode": {
    "name": "ipython",
    "version": 3
   },
   "file_extension": ".py",
   "mimetype": "text/x-python",
   "name": "python",
   "nbconvert_exporter": "python",
   "pygments_lexer": "ipython3",
   "version": "3.9.12"
  }
 },
 "cells": [
  {
   "cell_type": "markdown",
   "source": [
    "# Real Estate Location Mapping: Finding Nearest Amenities\n",
    "\n",
    "This notebook demonstrates how to enrich real estate property data by identifying the nearest metro stations, schools, and hospitals for each property. We'll use geographical distance calculations to link properties to these amenities and save the enriched data to an Excel file."
   ],
   "metadata": {}
  },
  {
   "cell_type": "markdown",
   "source": [
    "## 1. Setting Up the Environment and Loading Data\n",
    "\n",
    "First, we import the necessary libraries. If you don't have them installed, you can install them using `pip`:\n",
    "`pip install pandas geopy openpyxl`\n",
    "\n",
    "Then, we load the main real estate dataset and separate datasets for metro stations, schools, and hospitals. Ensure all these Excel files are in the same directory as this notebook."
   ],
   "metadata": {}
  },
  {
   "cell_type": "code",
   "source": [
    "import pandas as pd\n",
    "from geopy.distance import geodesic\n",
    "\n",
    "print(\"Loading data files...\")\n",
    "# Load real estate data (ensure this file exists and has 'X' and 'Y' for coordinates)\n",
    "real_estate_df = pd.read_excel(\"Delhi_RealEstate_Data.xlsx\")\n",
    "# Load amenity data (ensure these files exist and have 'X', 'Y', and their respective IDs)\n",
    "metro_df = pd.read_excel(\"MetroStations_Data.xlsx\")\n",
    "school_df = pd.read_excel(\"Schools_Data.xlsx\")\n",
    "hospital_df = pd.read_excel(\"Hospitals_Data.xlsx\")\n",
    "print(f\"Loaded {len(real_estate_df)} real estate properties\")"
   ],
   "metadata": {
    "colab": {
     "base_uri": "https://localhost:8080/"
    },
    "id": "eZ_T021d7_oW",
    "outputId": "97217691-3013-43f1-b969-e3141f021c32"
   },
   "outputs": []
  },
  {
   "cell_type": "markdown",
   "source": [
    "## 2. Defining the Nearest ID Function\n",
    "\n",
    "This function calculates the geodesic distance (shortest distance over the earth's surface) between a source location (a real estate property) and all target locations (amenities). It then returns the IDs of the `k` nearest amenities."
   ],
   "metadata": {}
  },
  {
   "cell_type": "code",
   "source": [
    "def find_nearest_ids(source_row, target_df, target_id_col, k):\n",
    "    # Extract coordinates from the source row (real estate property)\n",
    "    source_coords = (source_row[\"Y\"], source_row[\"X\"])\n",
    "    \n",
    "    # Calculate geodesic distance from source to all target locations\n",
    "    target_df[\"distance\"] = target_df.apply(\n",
    "        lambda row: geodesic(source_coords, (row[\"Y\"], row[\"X\"])).meters,\n",
    "        axis=1\n",
    "    )\n",
    "    \n",
    "    # Get the IDs of the k nearest target locations based on distance\n",
    "    nearest_ids = target_df.nsmallest(k, \"distance\")[target_id_col].tolist()\n",
    "    return nearest_ids"
   ],
   "metadata": {
    "colab": {
     "base_uri": "https://localhost:8080/"
    },
    "id": "J-Zt021d7_oX",
    "outputId": "65b9319e-e325-4c60-8456-5510d9326e1c"
   },
   "outputs": []
  },
  {
   "cell_type": "markdown",
   "source": [
    "## 3. Mapping Nearest Amenities to Real Estate Properties\n",
    "\n",
    "We apply the `find_nearest_ids` function to each real estate property in the DataFrame to find the nearest metro stations, schools, and hospitals. The results are stored in new columns in the `real_estate_df`."
   ],
   "metadata": {}
  },
  {
   "cell_type": "code",
   "source": [
    "print(\"Finding nearest metro stations...\")\n",
    "# Find the 2 nearest metro stations for each property\n",
    "real_estate_df[[\"nearest_metro_1\", \"nearest_metro_2\"]] = real_estate_df.apply(\n",
    "    lambda row: pd.Series(find_nearest_ids(row, metro_df, \"m_id\", 2)), axis=1\n",
    ")\n",
    "print(\"Metro stations mapped\")\n",
    "\n",
    "print(\"Finding nearest schools...\")\n",
    "# Find the 3 nearest schools for each property\n",
    "real_estate_df[[\"nearest_school_1\", \"nearest_school_2\", \"nearest_school_3\"]] = real_estate_df.apply(\n",
    "    lambda row: pd.Series(find_nearest_ids(row, school_df, \"s_id\", 3)), axis=1\n",
    ")\n",
    "print(\"Schools mapped\")\n",
    "\n",
    "print(\"Finding nearest hospitals...\")\n",
    "# Find the 3 nearest hospitals for each property\n",
    "real_estate_df[[\"nearest_hospital_1\", \"nearest_hospital_2\", \"nearest_hospital_3\"]] = real_estate_df.apply(\n",
    "    lambda row: pd.Series(find_nearest_ids(row, hospital_df, \"h_id\", 3)), axis=1\n",
    ")\n",
    "print(\"Hospitals mapped\")"
   ],
   "metadata": {
    "colab": {
     "base_uri": "https://localhost:8080/"
    },
    "id": "d-wT021d7_oY",
    "outputId": "36142750-7164-42f8-a111-54c34a942475"
   },
   "outputs": []
  },
  {
   "cell_type": "markdown",
   "source": [
    "## 4. Saving Enriched Data\n",
    "\n",
    "Finally, the DataFrame with the newly added nearest amenity IDs is saved to a new Excel file. This enriched dataset can then be used for further analysis or modeling."
   ],
   "metadata": {}
  },
  {
   "cell_type": "code",
   "source": [
    "print(\"Saving enriched data...\")\n",
    "real_estate_df.to_excel(\"Delhi_RealEstate_LocationMaped.xlsx\", index=False)\n",
    "print(\"Enriched file saved as Delhi_RealEstate_LocationMaped.xlsx\")"
   ],
   "metadata": {
    "colab": {
     "base_uri": "https://localhost:8080/"
    },
    "id": "e_zT021d7_oZ",
    "outputId": "36142750-7164-42f8-a111-54c34a942475"
   },
   "outputs": []
  }
 ]
}
