{
 "nbformat": 4,
 "nbformat_minor": 5,
 "metadata": {
  "colab": {
   "collapsed_sections": [],
   "name": "Real_Estate_Amenities_Distance.ipynb",
   "provenance": []
  },
  "kernelspec": {
   "display_name": "Python 3",
   "language": "python",
   "name": "python3"
  },
  "language_info": {
   "codemirror_mode": {
    "name": "ipython",
    "version": 3
   },
   "file_extension": ".py",
   "mimetype": "text/x-python",
   "name": "python",
   "nbconvert_exporter": "python",
   "pygments_lexer": "ipython3",
   "version": "3.9.12"
  }
 },
 "cells": [
  {
   "cell_type": "markdown",
   "source": [
    "# Real Estate Amenities Distance Calculation\n",
    "\n",
    "This notebook calculates the Euclidean distance from each real estate property to the nearest metro station, hospital, and school. The distances are then added as new features to the real estate dataset, which is saved as a CSV file."
   ],
   "metadata": {}
  },
  {
   "cell_type": "markdown",
   "source": [
    "## 1. Setting Up the Environment and Loading Data\n",
    "\n",
    "First, we import the necessary libraries. If you don't have them installed, you can install them using `pip`:\n",
    "`pip install pandas numpy`\n",
    "\n",
    "Then, we load the real estate data and separate datasets for metro stations, hospitals, and schools. Ensure these CSV files are located in a 'CSV data' subfolder relative to your notebook, or update the paths accordingly. We use `latin1` encoding as specified in your original script."
   ],
   "metadata": {}
  },
  {
   "cell_type": "code",
   "source": [
    "import pandas as pd\n",
    "import numpy as np\n",
    "\n",
    "# Load datasets with latin1 encoding\n",
    "# Ensure 'CSV data' folder exists and contains the specified CSV files\n",
    "realestate_df = pd.read_csv('CSV data/Delhi_RealEstate.csv', encoding='latin1')\n",
    "metro_df = pd.read_csv('CSV data/MetroStations_Data.csv', encoding='latin1')\n",
    "hospital_df = pd.read_csv('CSV data/Hospitals_Data.csv', encoding='latin1')\n",
    "school_df = pd.read_csv('CSV data/Schools_Data.csv', encoding='latin1')"
   ],
   "metadata": {
    "colab": {
     "base_uri": "https://localhost:8080/"
    },
    "id": "eZ_T021d7_oW",
    "outputId": "97217691-3013-43f1-b969-e3141f021c32"
   },
   "outputs": []
  },
  {
   "cell_type": "markdown",
   "source": [
    "## 2. Defining Distance Calculation Functions\n",
    "\n",
    "This section defines two helper functions:\n",
    "- `euclidean_distance`: Calculates the standard Euclidean distance between two points given their (X, Y) coordinates.\n",
    "- `get_nearest_distance`: Applies the Euclidean distance calculation to find the minimum distance from a given point to any point in a target DataFrame (e.g., nearest metro station)."
   ],
   "metadata": {}
  },
  {
   "cell_type": "code",
   "source": [
    "def euclidean_distance(x1, y1, x2, y2):\n",
    "    # Calculates the Euclidean distance between two points\n",
    "    return np.sqrt((x1 - x2)**2 + (y1 - y2)**2)\n",
    "\n",
    "def get_nearest_distance(x, y, locations_df):\n",
    "    # Finds the minimum Euclidean distance from (x, y) to any point in locations_df\n",
    "    return locations_df.apply(lambda row: euclidean_distance(x, y, row['X'], row['Y']), axis=1).min()"
   ],
   "metadata": {
    "colab": {
     "base_uri": "https://localhost:8080/"
    },
    "id": "J-Zt021d7_oX",
    "outputId": "65b9319e-e325-4c60-8456-5510d9326e1c"
   },
   "outputs": []
  },
  {
   "cell_type": "markdown",
   "source": [
    "## 3. Calculating Distances to Amenities\n",
    "\n",
    "We apply the `get_nearest_distance` function to each real estate property to calculate its distance to the nearest metro station, hospital, and school. The results are stored in new columns in the `realestate_df`."
   ],
   "metadata": {}
  },
  {
   "cell_type": "code",
   "source": [
    "realestate_df['distance_nearest_metro'] = realestate_df.apply(\n",
    "    lambda row: get_nearest_distance(row['X'], row['Y'], metro_df), axis=1\n",
    ")\n",
    "\n",
    "realestate_df['distance_nearest_hospital'] = realestate_df.apply(\n",
    "    lambda row: get_nearest_distance(row['X'], row['Y'], hospital_df), axis=1\n",
    ")\n",
    "\n",
    "realestate_df['distance_nearest_school'] = realestate_df.apply(\n",
    "    lambda row: get_nearest_distance(row['X'], row['Y'], school_df), axis=1\n",
    ")"
   ],
   "metadata": {
    "colab": {
     "base_uri": "https://localhost:8080/"
    },
    "id": "d-wT021d7_oY",
    "outputId": "36142750-7164-42f8-a111-54c34a942475"
   },
   "outputs": []
  },
  {
   "cell_type": "markdown",
   "source": [
    "## 4. Converting Distances to Kilometers and Final Save\n",
    "\n",
    "The calculated distances (which are in degrees, assuming your X, Y coordinates are latitude/longitude) are converted to kilometers using an approximate conversion factor. The intermediate distance columns are then dropped, and the final enriched DataFrame is saved to a CSV file."
   ],
   "metadata": {}
  },
  {
   "cell_type": "code",
   "source": [
    "conversion_factor = 111  # Approximate km per degree (latitude/longitude)\n",
    "realestate_df['distance_nearest_metro_km'] = realestate_df['distance_nearest_metro'] * conversion_factor\n",
    "realestate_df['distance_nearest_hospital_km'] = realestate_df['distance_nearest_hospital'] * conversion_factor\n",
    "realestate_df['distance_nearest_school_km'] = realestate_df['distance_nearest_school'] * conversion_factor\n",
    "\n",
    "# Drop the original degree-based distance columns\n",
    "realestate_df = realestate_df.drop(['distance_nearest_metro', 'distance_nearest_hospital', 'distance_nearest_school'], axis=1)\n",
    "\n",
    "# Save the enriched DataFrame to a CSV file\n",
    "realestate_df.to_csv('CSV data/delhi_realestate_with_distances.csv', index=False, encoding='latin1')\n",
    "\n",
    "print(\"CSV file saved as 'delhi_realestate_with_distances.csv'\")"
   ],
   "metadata": {
    "colab": {
     "base_uri": "https://localhost:8080/"
    },
    "id": "e_zT021d7_oZ",
    "outputId": "36142750-7164-42f8-a111-54c34a942475"
   },
   "outputs": []
  }
 ]
}
